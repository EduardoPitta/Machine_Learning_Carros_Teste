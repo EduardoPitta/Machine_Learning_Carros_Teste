{
 "cells": [
  {
   "cell_type": "code",
   "execution_count": 95,
   "metadata": {},
   "outputs": [],
   "source": [
    "def colocar_tipo_de_carro_de_acordo_com_modelo(DataFrame):\n",
    "    dict_modelos = df.groupby('model')['brand'].apply(list).to_dict()\n",
    "    for key in dict_modelos:\n",
    "        dict_modelos[key] = list(dict.fromkeys(dict_modelos[key]))\n",
    "        dict_modelos[key] = dict_modelos[key][0]\n",
    "    DataFrame.vehicleType = DataFrame.vehicleType.fillna(df.model.map(dict_modelos))\n",
    "    return(DataFrame)\n",
    "    \n",
    "def colocar_marca_do_carro_de_acordo_com_modelo(DataFrame):\n",
    "    dict_modelos = df.groupby('model')['brand'].apply(list).to_dict()\n",
    "    for key in dict_modelos:\n",
    "        dict_modelos[key] = list(dict.fromkeys(dict_modelos[key]))\n",
    "        dict_modelos[key] = dict_modelos[key][0]\n",
    "    DataFrame.brand = DataFrame.brand.fillna(df.model.map(dict_modelos))\n",
    "    return(DataFrame)"
   ]
  },
  {
   "cell_type": "code",
   "execution_count": 96,
   "metadata": {},
   "outputs": [
    {
     "data": {
      "text/plain": [
       "(297222,)"
      ]
     },
     "execution_count": 96,
     "metadata": {},
     "output_type": "execute_result"
    }
   ],
   "source": [
    "import pandas as pd\n",
    "import matplotlib.pyplot as plt\n",
    "file_path='C:/Users/eduar/OneDrive/Área de Trabalho/data_science_test/autos.csv'\n",
    "\n",
    "df = pd.read_csv(file_path, encoding = 'ISO-8859-1')\n",
    "df['notRepairedDamage'].fillna('ja', inplace = True)\n",
    "\n",
    "colocar_marca_do_carro_de_acordo_com_modelo(df)\n",
    "colocar_tipo_de_carro_de_acordo_com_modelo(df)\n",
    "\n",
    "features = ['offerType','yearOfRegistration','powerPS','model','kilometer','gearbox','fuelType','notRepairedDamage']\n",
    "X = df[features]\n",
    "y = df.price\n",
    "\n",
    "from sklearn.model_selection import train_test_split\n",
    "X_train, X_test, y_train, y_test = train_test_split(X, y, test_size=0.2, random_state=1)\n",
    "X_train.shape\n",
    "y_train.shape\n",
    "\n",
    "\n",
    "#print(df.isnull().sum())\n",
    "#df.info\n",
    "#df.describe()\n",
    "#df.columns\n",
    "#df.isnull()"
   ]
  },
  {
   "cell_type": "code",
   "execution_count": 97,
   "metadata": {},
   "outputs": [],
   "source": [
    "s = (X_train.dtypes == 'object')\n",
    "object_cols = list(s[s].index)"
   ]
  },
  {
   "cell_type": "code",
   "execution_count": 99,
   "metadata": {},
   "outputs": [
    {
     "name": "stdout",
     "output_type": "stream",
     "text": [
      "[ 1828.27       18279.49008333  6139.28797619 ...  5518.6855\n",
      "   240.28183333  1707.32047619]\n",
      "46793.51013313737\n"
     ]
    }
   ],
   "source": [
    "from sklearn.preprocessing import LabelEncoder\n",
    "from sklearn.preprocessing import OneHotEncoder\n",
    "from sklearn.ensemble import RandomForestRegressor\n",
    "from sklearn.metrics import mean_absolute_error\n",
    "\n",
    "drop_X_train = X_train.select_dtypes(exclude=['object'])\n",
    "drop_X_test = X_test.select_dtypes(exclude=['object'])\n",
    "\n",
    "\n",
    "OH_encoder = OneHotEncoder(handle_unknown='ignore', sparse=False)\n",
    "OH_cols_train = pd.DataFrame(OH_encoder.fit_transform(X_train[object_cols]))\n",
    "OH_cols_test = pd.DataFrame(OH_encoder.transform(X_test[object_cols]))\n",
    "\n",
    "OH_cols_train.index = X_train.index\n",
    "OH_cols_test.index = X_test.index\n",
    "\n",
    "num_X_train = X_train.drop(object_cols, axis=1)\n",
    "num_X_test = X_test.drop(object_cols, axis=1)\n",
    "\n",
    "OH_X_train = pd.concat([num_X_train, OH_cols_train], axis=1)\n",
    "OH_X_test = pd.concat([num_X_test, OH_cols_test], axis=1)\n",
    "\n",
    "label_X_train = X_train.copy()\n",
    "label_X_test = X_test.copy()\n",
    "label_encoder = LabelEncoder()\n",
    "\n",
    "for col in object_cols:\n",
    "    label_X_train[col] = label_encoder.fit_transform(X_train[col])\n",
    "    label_X_test[col] = label_encoder.transform(X_test[col])\n",
    "\n",
    "\n",
    "forest_model = RandomForestRegressor(random_state=1)\n",
    "forest_model.fit(label_X_train, y_train)\n",
    "print(mean_absolute_error(y_test, predictions))"
   ]
  },
  {
   "cell_type": "code",
   "execution_count": null,
   "metadata": {},
   "outputs": [],
   "source": []
  }
 ],
 "metadata": {
  "kernelspec": {
   "display_name": "Python 3",
   "language": "python",
   "name": "python3"
  },
  "language_info": {
   "codemirror_mode": {
    "name": "ipython",
    "version": 3
   },
   "file_extension": ".py",
   "mimetype": "text/x-python",
   "name": "python",
   "nbconvert_exporter": "python",
   "pygments_lexer": "ipython3",
   "version": "3.8.6"
  }
 },
 "nbformat": 4,
 "nbformat_minor": 4
}
